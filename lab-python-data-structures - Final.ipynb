{
 "cells": [
  {
   "cell_type": "markdown",
   "metadata": {
    "tags": []
   },
   "source": [
    "# Lab | Data Structures "
   ]
  },
  {
   "cell_type": "raw",
   "metadata": {},
   "source": [
    "## Exercise: Managing Customer Orders\n",
    "\n",
    "As part of a business venture, you are starting an online store that sells various products. To ensure smooth operations, you need to develop a program that manages customer orders and inventory.\n",
    "\n",
    "Follow the steps below to complete the exercise:\n",
    "\n",
    "1. Define a list called `products` that contains the following items: \"t-shirt\", \"mug\", \"hat\", \"book\", \"keychain\".\n",
    "\n",
    "2. Create an empty dictionary called `inventory`.\n",
    "\n",
    "3. Ask the user to input the quantity of each product available in the inventory. Use the product names from the `products` list as keys in the `inventory` dictionary and assign the respective quantities as values.\n",
    "\n",
    "4. Create an empty set called `customer_orders`.\n",
    "\n",
    "5. Ask the user to input the name of three products that a customer wants to order (from those in the products list, meaning three products out of \"t-shirt\", \"mug\", \"hat\", \"book\" or \"keychain\". Add each product name to the `customer_orders` set.\n",
    "\n",
    "6. Print the products in the `customer_orders` set.\n",
    "\n",
    "7. Calculate the following order statistics:\n",
    "   - Total Products Ordered: The total number of products in the `customer_orders` set.\n",
    "   - Percentage of Products Ordered: The percentage of products ordered compared to the total available products.\n",
    "   \n",
    "   Store these statistics in a tuple called `order_status`.\n",
    "\n",
    "8. Print the order statistics using the following format:\n",
    "   ```\n",
    "   Order Statistics:\n",
    "   Total Products Ordered: <total_products_ordered>\n",
    "   Percentage of Products Ordered: <percentage_ordered>% \n",
    "   ```\n",
    "\n",
    "9. Update the inventory by subtracting 1 from the quantity of each product. Modify the `inventory` dictionary accordingly.\n",
    "\n",
    "10. Print the updated inventory, displaying the quantity of each product on separate lines.\n",
    "\n",
    "Solve the exercise by implementing the steps using the Python concepts of lists, dictionaries, sets, and basic input/output operations. "
   ]
  },
  {
   "cell_type": "code",
   "execution_count": 10,
   "metadata": {},
   "outputs": [],
   "source": [
    "                                                                    # Version 1  - \n",
    "# Step 1 - Creating list\n",
    "\n",
    "products = [\"t-shirt\", \"mug\", \"hat\", \"book\", \"keychain\"]"
   ]
  },
  {
   "cell_type": "code",
   "execution_count": 12,
   "metadata": {},
   "outputs": [],
   "source": [
    "# Step 2 - Creating empty dictionary\n",
    "\n",
    "inventory = {}\n"
   ]
  },
  {
   "cell_type": "code",
   "execution_count": 16,
   "metadata": {},
   "outputs": [
    {
     "name": "stdin",
     "output_type": "stream",
     "text": [
      "How many t-shirts do you have in inventory?: 1\n",
      "How many mugs do you have in inventory? 2\n",
      "How many books do you have in inventory? 3\n",
      "How many hats do you have in inventory? 4\n",
      "How many keychain do you have in inventory? 5\n"
     ]
    },
    {
     "name": "stdout",
     "output_type": "stream",
     "text": [
      "{'t-shirts': 1, 'mugs': 2, 'books': 3, 'hats': 4, 'keychains': 5}\n"
     ]
    }
   ],
   "source": [
    "# Step 3 Asking for inventory input\n",
    "\n",
    "tshirt_quantity = int(input(\"How many t-shirts do you have in inventory?:\"))  \n",
    "mug_quantity = int(input(\"How many mugs do you have in inventory?\"))\n",
    "book_quantity= int(input(\"How many books do you have in inventory?\"))\n",
    "hat_quantity= int(input(\"How many hats do you have in inventory?\"))\n",
    "keychain_quantity= int(input(\"How many keychain do you have in inventory?\"))\n",
    "\n",
    "inventory = {'t-shirts': tshirt_quantity, 'mugs': mug_quantity, 'books': book_quantity, 'hats': hat_quantity, 'keychains': keychain_quantity}\n",
    "\n",
    "print(inventory)"
   ]
  },
  {
   "cell_type": "code",
   "execution_count": 46,
   "metadata": {},
   "outputs": [],
   "source": [
    "                                                                    # Version 1  -  \n",
    "# Step 4 Creating Empty Set\n",
    "\n",
    "customer_orders = set()\n"
   ]
  },
  {
   "cell_type": "code",
   "execution_count": 32,
   "metadata": {},
   "outputs": [
    {
     "name": "stdin",
     "output_type": "stream",
     "text": [
      "Please input your first product: mugs\n",
      "Please input your second product: t-shirt\n",
      "Please input your third product: books\n"
     ]
    }
   ],
   "source": [
    "# Step 5 - 6\n",
    "\n",
    "order_1 = input(\"Please input your first product:\")\n",
    "order_2 = input(\"Please input your second product:\")\n",
    "order_3 = input(\"Please input your third product:\")"
   ]
  },
  {
   "cell_type": "code",
   "execution_count": 48,
   "metadata": {},
   "outputs": [
    {
     "name": "stdout",
     "output_type": "stream",
     "text": [
      "{'mugs', 'books', 't-shirt'}\n"
     ]
    }
   ],
   "source": [
    "customer_orders.add(order_1)\n",
    "customer_orders.add(order_2)\n",
    "customer_orders.add(order_3)\n",
    "\n",
    "print(customer_orders)"
   ]
  },
  {
   "cell_type": "code",
   "execution_count": 56,
   "metadata": {},
   "outputs": [
    {
     "name": "stdout",
     "output_type": "stream",
     "text": [
      "3\n"
     ]
    }
   ],
   "source": [
    "# Step 7\n",
    "\n",
    "customer_orders_length = len(customer_orders)\n",
    "print(len(customer_orders))\n",
    "\n",
    "total_products_inventory = sum(inventory.values())\n",
    "percentage_ordered = (customer_orders_length / total_products_inventory) * 100"
   ]
  },
  {
   "cell_type": "code",
   "execution_count": 60,
   "metadata": {},
   "outputs": [
    {
     "name": "stdout",
     "output_type": "stream",
     "text": [
      "Total Products Ordered: 3\n",
      "Percentage of Products Ordered: 20.0 %\n"
     ]
    }
   ],
   "source": [
    "# Step 8\n",
    "\n",
    "print(f\"Total Products Ordered: {customer_orders_length}\")\n",
    "print(f\"Percentage of Products Ordered: {percentage_ordered}\",\"%\")"
   ]
  },
  {
   "cell_type": "code",
   "execution_count": 64,
   "metadata": {},
   "outputs": [
    {
     "name": "stdout",
     "output_type": "stream",
     "text": [
      "Inventory {'t-shirts': 1, 'mugs': 2, 'books': 3, 'hats': 4, 'keychains': 5}\n",
      "Updated Inventory:  {'t-shirts': 0, 'mugs': 1, 'books': 2, 'hats': 3, 'keychains': 4}\n"
     ]
    }
   ],
   "source": [
    "# Step 9 - \n",
    "# subtract 1 from each product value inside inventory\n",
    "\n",
    "print(\"Inventory\", inventory)\n",
    "\n",
    "updated_inventory = inventory.copy()\n",
    "\n",
    "for key, value in inventory.items():\n",
    "   \n",
    "    updated_inventory[key] = value - 1\n",
    "\n",
    "print(\"Updated Inventory: \", updated_inventory)"
   ]
  },
  {
   "cell_type": "code",
   "execution_count": 66,
   "metadata": {},
   "outputs": [
    {
     "name": "stdout",
     "output_type": "stream",
     "text": [
      "Product : T-shirts - 0 units\n",
      "Product : Mugs - 1 units\n",
      "Product : Books - 2 units\n",
      "Product : Hats - 3 units\n",
      "Product : Keychains - 4 units\n"
     ]
    }
   ],
   "source": [
    "# Step 10 -\n",
    "\n",
    "# print updated inventory showing each product and its value in each paragraph\n",
    "\n",
    "for key, value in updated_inventory.items():\n",
    "    \n",
    "    print(f\"Product : {key.capitalize()} - {value} units\")\n",
    "    "
   ]
  },
  {
   "cell_type": "code",
   "execution_count": null,
   "metadata": {},
   "outputs": [],
   "source": []
  }
 ],
 "metadata": {
  "kernelspec": {
   "display_name": "Python [conda env:base] *",
   "language": "python",
   "name": "conda-base-py"
  },
  "language_info": {
   "codemirror_mode": {
    "name": "ipython",
    "version": 3
   },
   "file_extension": ".py",
   "mimetype": "text/x-python",
   "name": "python",
   "nbconvert_exporter": "python",
   "pygments_lexer": "ipython3",
   "version": "3.12.7"
  }
 },
 "nbformat": 4,
 "nbformat_minor": 4
}
